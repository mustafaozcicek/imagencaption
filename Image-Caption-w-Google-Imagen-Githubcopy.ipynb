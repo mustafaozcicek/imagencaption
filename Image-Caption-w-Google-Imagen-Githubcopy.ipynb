{
 "cells": [
  {
   "cell_type": "markdown",
   "id": "adceb494",
   "metadata": {},
   "source": [
    "## Image Captioning with Google Imagen"
   ]
  },
  {
   "cell_type": "markdown",
   "id": "d1addd23",
   "metadata": {},
   "source": [
    "Mustafa Ozcicek ozcicekmustafa@gmail.com\n",
    "\n",
    "I have been testing many different captioning models. Altough they all of them work pretty well, most of them fail when they describe simplistic logos, graphic design works etc. If you are (like me) trying to create a training dataset with captions and do not want to write captions manually, I found that Google's Imagen works pretty well. \n",
    "\n",
    "Before you start, make sure that your images have proper names starting from 1 to whatever. And you should adjust the range value in the loop manually based on the number of images you have."
   ]
  },
  {
   "cell_type": "markdown",
   "id": "85466b36",
   "metadata": {},
   "source": [
    "### Import Libraries"
   ]
  },
  {
   "cell_type": "code",
   "execution_count": 16,
   "id": "0763ab92",
   "metadata": {},
   "outputs": [],
   "source": [
    "import requests\n",
    "import json\n",
    "import base64\n",
    "import os\n",
    "import pandas as pd\n",
    "from tqdm import tqdm\n",
    "from PIL import Image\n",
    "from io import BytesIO"
   ]
  },
  {
   "cell_type": "markdown",
   "id": "78b7e21f",
   "metadata": {},
   "source": [
    "### Define Useful Functions"
   ]
  },
  {
   "cell_type": "code",
   "execution_count": 17,
   "id": "5655ad3c",
   "metadata": {
    "scrolled": true
   },
   "outputs": [],
   "source": [
    "def get_image_base64_encoding(image_path: str) -> str:\n",
    "    \"\"\"\n",
    "    Function to return the base64 string representation of an image\n",
    "    \"\"\"\n",
    "    with open(image_path, 'rb') as file:\n",
    "        image_data = file.read()\n",
    "    image_extension = os.path.splitext(image_path)[1]\n",
    "    base64_encoded = base64.b64encode(image_data).decode('utf-8')\n",
    "    return f\"data:image/{image_extension[1:]};base64,{base64_encoded}\"\n",
    "\n",
    "\n",
    "def get_image_base64_encoding2(image_path: str) -> str:\n",
    "    \"\"\"\n",
    "    \n",
    "    Function to return the base64 string representation of an image\n",
    "    This function does not include data:image/png;base64, before the encoding\n",
    "    I am using for the iterating http requests\n",
    "    \n",
    "    \"\"\"\n",
    "    with open(image_path, 'rb') as file:\n",
    "        image_data = file.read()\n",
    "    image_extension = os.path.splitext(image_path)[1]\n",
    "    base64_encoded = base64.b64encode(image_data).decode('utf-8')\n",
    "    return f\"{base64_encoded}\"\n",
    "\n",
    "def image_to_base64_PNG(image, format=\"PNG\"):\n",
    "    \n",
    "    \"\"\"\n",
    "    Process PNG Images\n",
    "    \n",
    "    \"\"\"\n",
    "\n",
    "    buffer = BytesIO()\n",
    "    image.save(buffer, format=format)\n",
    "    image_str = base64.b64encode(buffer.getvalue()).decode(\"utf-8\")\n",
    "    return image_str\n"
   ]
  },
  {
   "cell_type": "markdown",
   "id": "d52a5c28",
   "metadata": {},
   "source": [
    "### Create a Dataframe to Keep the Captions and Other Info"
   ]
  },
  {
   "cell_type": "code",
   "execution_count": 18,
   "id": "f8d11995",
   "metadata": {
    "scrolled": true
   },
   "outputs": [
    {
     "name": "stdout",
     "output_type": "stream",
     "text": [
      "Empty DataFrame\n",
      "Columns: [Image ID, Image, Description]\n",
      "Index: []\n"
     ]
    }
   ],
   "source": [
    "captiondb = pd.DataFrame({\"Image ID\": [], \"Image\": [], \"Description\": []})\n",
    "print(captiondb)"
   ]
  },
  {
   "cell_type": "markdown",
   "id": "9a997c17",
   "metadata": {},
   "source": [
    "### Start the Request"
   ]
  },
  {
   "cell_type": "markdown",
   "id": "bd20cbd8",
   "metadata": {},
   "source": [
    "**Enter Google Cloud Project Credentials**\n",
    "\n",
    "In order to get an access token, enable Vertex API on Google Cloud and open google cloud terminal\n",
    "enter this line:\n",
    "\n",
    "```!gcloud auth application-default print-access-token ``` *without the exclamation mark*"
   ]
  },
  {
   "cell_type": "code",
   "execution_count": 21,
   "id": "31eb0fa9",
   "metadata": {},
   "outputs": [],
   "source": [
    "project_id = \"projectname\"\n",
    "\n",
    "locations = \"us-central1\"\n",
    "\n",
    "# Use google cloud terminal to get an access token !gcloud auth application-default print-access-token\n",
    "access_token = \"acces token\"\n",
    "\n",
    "lang = \"en\" #caption language en, fr, es, de, it\n",
    "\n",
    "caption_count = 1 #how many caption alternatives do you want max: 3\n",
    "\n",
    "url = f\"https://us-central1-aiplatform.googleapis.com/v1/projects/{project_id}/locations/{locations}/publishers/google/models/imagetext:predict\"\n",
    "\n",
    "headers = {\n",
    "    \"Authorization\": \"Bearer \" + access_token,\n",
    "    \"Content-Type\": \"application/json; charset=utf-8\"\n",
    "}\n"
   ]
  },
  {
   "cell_type": "markdown",
   "id": "2a8a9774",
   "metadata": {},
   "source": [
    "#### Single Image"
   ]
  },
  {
   "cell_type": "markdown",
   "id": "0e1bdfdb",
   "metadata": {},
   "source": [
    "Skip this line if you are trying to caption multiple images in a directory"
   ]
  },
  {
   "cell_type": "code",
   "execution_count": 28,
   "id": "287bddd4",
   "metadata": {},
   "outputs": [
    {
     "name": "stdout",
     "output_type": "stream",
     "text": [
      "{'predictions': ['the letter h is in the shape of a house .'], 'deployedModelId': '6747203681382301696'}\n"
     ]
    }
   ],
   "source": [
    "data = f'''{{\n",
    "        \"instances\": [\n",
    "            {{\n",
    "                \"image\": {{\n",
    "                    \"bytesBase64Encoded\": \"{image_to_base64_PNG(Image.open(\"../../ImageSimilarity/data/\"+ str(i) + \".png\"))}\"\n",
    "                }}\n",
    "            }}\n",
    "        ],\n",
    "        \"parameters\": {{\n",
    "            \"sampleCount\": 1,\n",
    "            \"language\": \"en\"\n",
    "        }}\n",
    "    }}'''\n",
    "\n",
    "response = requests.post(url, headers=headers, data=data)\n",
    "\n",
    "if response.status_code == 200:\n",
    "    result = response.json()\n",
    "    print(result)\n",
    "else:\n",
    "    print(\"Request failed with status code:\", response.status_code)\n",
    "    print(response.text)\n"
   ]
  },
  {
   "cell_type": "markdown",
   "id": "96e23cb0",
   "metadata": {},
   "source": [
    "#### Batch Captioning with for loop"
   ]
  },
  {
   "cell_type": "markdown",
   "id": "7d58aa01",
   "metadata": {},
   "source": [
    "### Check the DB and Export"
   ]
  },
  {
   "cell_type": "code",
   "execution_count": null,
   "id": "1261962c",
   "metadata": {},
   "outputs": [],
   "source": [
    "for i in tqdm(range(1, 50)):\n",
    "    \n",
    "    i += 1\n",
    "    \n",
    "    encode_img = image_to_base64_PNG(Image.open(\"../../ImageSimilarity/data/\"+ str(i) + \".png\"))\n",
    "    \n",
    "\n",
    "    data = f'''{{\n",
    "        \"instances\": [\n",
    "            {{\n",
    "                \"image\": {{\n",
    "                    \"bytesBase64Encoded\": \"{encode_img}\"\n",
    "                }}\n",
    "            }}\n",
    "        ],\n",
    "        \"parameters\": {{\n",
    "            \"sampleCount\": 1,\n",
    "            \"language\": \"en\"\n",
    "        }}\n",
    "    }}'''\n",
    "\n",
    "    response = requests.post(url, headers=headers, data=data)\n",
    "\n",
    "    if response.status_code == 200:\n",
    "        result = response.json()\n",
    "        # Append captions to the DataFrame\n",
    "        captiondb.loc[i] = [str(i) + \".png\", encode_img,  result['predictions'][0]]\n",
    "    else:\n",
    "        print(\"Request failed with status code:\", response.status_code)\n",
    "        print(response.text)\n",
    "        print(f\"The process failed while captioning {i}.png\")\n"
   ]
  },
  {
   "cell_type": "code",
   "execution_count": 25,
   "id": "8be460d5",
   "metadata": {
    "scrolled": true
   },
   "outputs": [
    {
     "data": {
      "text/html": [
       "<div>\n",
       "<style scoped>\n",
       "    .dataframe tbody tr th:only-of-type {\n",
       "        vertical-align: middle;\n",
       "    }\n",
       "\n",
       "    .dataframe tbody tr th {\n",
       "        vertical-align: top;\n",
       "    }\n",
       "\n",
       "    .dataframe thead th {\n",
       "        text-align: right;\n",
       "    }\n",
       "</style>\n",
       "<table border=\"1\" class=\"dataframe\">\n",
       "  <thead>\n",
       "    <tr style=\"text-align: right;\">\n",
       "      <th></th>\n",
       "      <th>Image ID</th>\n",
       "      <th>Image</th>\n",
       "      <th>Description</th>\n",
       "    </tr>\n",
       "  </thead>\n",
       "  <tbody>\n",
       "    <tr>\n",
       "      <th>1</th>\n",
       "      <td>1.png</td>\n",
       "      <td>iVBORw0KGgoAAAANSUhEUgAAAQAAAAEACAIAAADTED8xAA...</td>\n",
       "      <td>a cross with the number 2 and 1 on it</td>\n",
       "    </tr>\n",
       "    <tr>\n",
       "      <th>2</th>\n",
       "      <td>2.png</td>\n",
       "      <td>iVBORw0KGgoAAAANSUhEUgAAAQAAAAEACAIAAADTED8xAA...</td>\n",
       "      <td>a black and white icon of a house with a squar...</td>\n",
       "    </tr>\n",
       "    <tr>\n",
       "      <th>3</th>\n",
       "      <td>3.png</td>\n",
       "      <td>iVBORw0KGgoAAAANSUhEUgAAAQAAAAEACAIAAADTED8xAA...</td>\n",
       "      <td>the letter s is in a circle on a white backgro...</td>\n",
       "    </tr>\n",
       "    <tr>\n",
       "      <th>4</th>\n",
       "      <td>4.png</td>\n",
       "      <td>iVBORw0KGgoAAAANSUhEUgAAAQAAAAEACAIAAADTED8xAA...</td>\n",
       "      <td>the 3m logo is black and white on a white back...</td>\n",
       "    </tr>\n",
       "    <tr>\n",
       "      <th>5</th>\n",
       "      <td>5.png</td>\n",
       "      <td>iVBORw0KGgoAAAANSUhEUgAAAQAAAAEACAIAAADTED8xAA...</td>\n",
       "      <td>a black and white logo with a cross and the nu...</td>\n",
       "    </tr>\n",
       "  </tbody>\n",
       "</table>\n",
       "</div>"
      ],
      "text/plain": [
       "  Image ID                                              Image  \\\n",
       "1    1.png  iVBORw0KGgoAAAANSUhEUgAAAQAAAAEACAIAAADTED8xAA...   \n",
       "2    2.png  iVBORw0KGgoAAAANSUhEUgAAAQAAAAEACAIAAADTED8xAA...   \n",
       "3    3.png  iVBORw0KGgoAAAANSUhEUgAAAQAAAAEACAIAAADTED8xAA...   \n",
       "4    4.png  iVBORw0KGgoAAAANSUhEUgAAAQAAAAEACAIAAADTED8xAA...   \n",
       "5    5.png  iVBORw0KGgoAAAANSUhEUgAAAQAAAAEACAIAAADTED8xAA...   \n",
       "\n",
       "                                         Description  \n",
       "1              a cross with the number 2 and 1 on it  \n",
       "2  a black and white icon of a house with a squar...  \n",
       "3  the letter s is in a circle on a white backgro...  \n",
       "4  the 3m logo is black and white on a white back...  \n",
       "5  a black and white logo with a cross and the nu...  "
      ]
     },
     "execution_count": 25,
     "metadata": {},
     "output_type": "execute_result"
    }
   ],
   "source": [
    "captiondb.head()"
   ]
  },
  {
   "cell_type": "code",
   "execution_count": 28,
   "id": "45cb38f0",
   "metadata": {
    "scrolled": true
   },
   "outputs": [
    {
     "name": "stdout",
     "output_type": "stream",
     "text": [
      "<class 'pandas.core.frame.DataFrame'>\n",
      "Index: 14 entries, 1 to 20\n",
      "Data columns (total 3 columns):\n",
      " #   Column       Non-Null Count  Dtype \n",
      "---  ------       --------------  ----- \n",
      " 0   Image ID     14 non-null     object\n",
      " 1   Image        14 non-null     object\n",
      " 2   Description  14 non-null     object\n",
      "dtypes: object(3)\n",
      "memory usage: 448.0+ bytes\n",
      "None\n"
     ]
    }
   ],
   "source": [
    "print(captiondb.info())"
   ]
  },
  {
   "cell_type": "markdown",
   "id": "fa9d65aa",
   "metadata": {},
   "source": [
    "#### Export DB to a csv file"
   ]
  },
  {
   "cell_type": "code",
   "execution_count": 30,
   "id": "981075d4",
   "metadata": {},
   "outputs": [],
   "source": [
    "captiondb.to_csv(\"captiondb.cvs\", index=False)"
   ]
  },
  {
   "cell_type": "markdown",
   "id": "55495013",
   "metadata": {},
   "source": [
    "### Closing Marks"
   ]
  },
  {
   "cell_type": "markdown",
   "id": "0f57c75f",
   "metadata": {},
   "source": [
    "Google Cloud does not allow you to run the request forever. It comes to a halt after ~10-20 iteration. You need to get in touch with them and ask to increase the quota. I have not done it yet so I cannot provide the information about that yet."
   ]
  }
 ],
 "metadata": {
  "kernelspec": {
   "display_name": "opencv-env",
   "language": "python",
   "name": "opencv-env"
  },
  "language_info": {
   "codemirror_mode": {
    "name": "ipython",
    "version": 3
   },
   "file_extension": ".py",
   "mimetype": "text/x-python",
   "name": "python",
   "nbconvert_exporter": "python",
   "pygments_lexer": "ipython3",
   "version": "3.10.3"
  }
 },
 "nbformat": 4,
 "nbformat_minor": 5
}
