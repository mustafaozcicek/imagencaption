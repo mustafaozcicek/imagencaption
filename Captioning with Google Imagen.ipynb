{
 "cells": [
  {
   "cell_type": "markdown",
   "id": "adceb494",
   "metadata": {},
   "source": [
    "## Image Captioning with Google Imagen"
   ]
  },
  {
   "cell_type": "markdown",
   "id": "d1addd23",
   "metadata": {},
   "source": [
    "Mustafa Ozcicek ozcicekmustafa@gmail.com\n",
    "\n",
    "I have been testing many different captioning models. Altough they all of them work pretty well, most of them fail when they describe simplistic logos, graphic design works etc. If you are (like me) trying to create a training dataset with captions and do not want to write captions manually, I found that Google's Imagen works pretty well. \n",
    "\n",
    "Before you start, make sure that your images have proper names starting from 1 to whatever. And you should adjust the range value in the loop manually based on the number of images you have."
   ]
  },
  {
   "cell_type": "markdown",
   "id": "85466b36",
   "metadata": {},
   "source": [
    "### Import Libraries"
   ]
  },
  {
   "cell_type": "code",
   "execution_count": 16,
   "id": "0763ab92",
   "metadata": {},
   "outputs": [],
   "source": [
    "import requests\n",
    "import json\n",
    "import base64\n",
    "import os\n",
    "import pandas as pd\n",
    "from tqdm import tqdm\n",
    "from PIL import Image\n",
    "from io import BytesIO"
   ]
  },
  {
   "cell_type": "markdown",
   "id": "78b7e21f",
   "metadata": {},
   "source": [
    "### Define Useful Functions"
   ]
  },
  {
   "cell_type": "code",
   "execution_count": 17,
   "id": "5655ad3c",
   "metadata": {
    "scrolled": true
   },
   "outputs": [],
   "source": [
    "def get_image_base64_encoding(image_path: str) -> str:\n",
    "    \"\"\"\n",
    "    Function to return the base64 string representation of an image\n",
    "    \"\"\"\n",
    "    with open(image_path, 'rb') as file:\n",
    "        image_data = file.read()\n",
    "    image_extension = os.path.splitext(image_path)[1]\n",
    "    base64_encoded = base64.b64encode(image_data).decode('utf-8')\n",
    "    return f\"data:image/{image_extension[1:]};base64,{base64_encoded}\"\n",
    "\n",
    "\n",
    "def get_image_base64_encoding2(image_path: str) -> str:\n",
    "    \"\"\"\n",
    "    \n",
    "    Function to return the base64 string representation of an image\n",
    "    This function does not include data:image/png;base64, before the encoding\n",
    "    I am using for the iterating http requests\n",
    "    \n",
    "    \"\"\"\n",
    "    with open(image_path, 'rb') as file:\n",
    "        image_data = file.read()\n",
    "    image_extension = os.path.splitext(image_path)[1]\n",
    "    base64_encoded = base64.b64encode(image_data).decode('utf-8')\n",
    "    return f\"{base64_encoded}\"\n",
    "\n",
    "def image_to_base64_PNG(image, format=\"PNG\"):\n",
    "    \n",
    "    \"\"\"\n",
    "    Process PNG Images\n",
    "    \n",
    "    \"\"\"\n",
    "\n",
    "    buffer = BytesIO()\n",
    "    image.save(buffer, format=format)\n",
    "    image_str = base64.b64encode(buffer.getvalue()).decode(\"utf-8\")\n",
    "    return image_str\n"
   ]
  },
  {
   "cell_type": "markdown",
   "id": "d52a5c28",
   "metadata": {},
   "source": [
    "### Create a Dataframe to Keep the Captions and Other Info"
   ]
  },
  {
   "cell_type": "code",
   "execution_count": 18,
   "id": "f8d11995",
   "metadata": {
    "scrolled": true
   },
   "outputs": [
    {
     "name": "stdout",
     "output_type": "stream",
     "text": [
      "Empty DataFrame\n",
      "Columns: [Image ID, Image, Description]\n",
      "Index: []\n"
     ]
    }
   ],
   "source": [
    "captiondb = pd.DataFrame({\"Image ID\": [], \"Image\": [], \"Description\": []})\n",
    "print(captiondb)"
   ]
  },
  {
   "cell_type": "markdown",
   "id": "9a997c17",
   "metadata": {},
   "source": [
    "### Start the Request"
   ]
  },
  {
   "cell_type": "markdown",
   "id": "bd20cbd8",
   "metadata": {},
   "source": [
    "**Enter Google Cloud Project Credentials**\n",
    "\n",
    "In order to get an access token, enable Vertex API on Google Cloud and open google cloud terminal\n",
    "enter this line:\n",
    "\n",
    "```!gcloud auth application-default print-access-token ``` *without the exclamation mark*"
   ]
  },
  {
   "cell_type": "code",
   "execution_count": 21,
   "id": "31eb0fa9",
   "metadata": {},
   "outputs": [],
   "source": [
    "project_id = \"visionforphdproject\"\n",
    "\n",
    "locations = \"us-central1\"\n",
    "\n",
    "# Use google cloud terminal to get an access token !gcloud auth application-default print-access-token\n",
    "access_token = \"ya29.a0AfB_byD8X0LUPQ6ZroeSUUEWFZjXpw34DaqQ_Dg9DU7bI2vUYNZuzhZxIUiYXsoszLXaztYggoELgO2iFOVpvdtLvc65rZqVUM1HsGKiDRWMy9lmElALyN0oQpDlOenaWJIdvUIXCsSS3qw8cLpB6xiHs5O_OTOGCcpzHgqlqW1AWl-z3b7Em_yAlw_dd8B791ZIDVrW-F5bCk4EDR6WGRxpZx9WYZHM80F_U-BAlZDDauFtceCm2E4JrDuSIofKiCCW_Pz8_Z4729Uf_tgivbZ3WOp_cdiwS4M8QXl66nGA9dXG4m7n6i8MbPAQQz1BjzHn2hfgRjdYXAdLD_ziYy6goCLUxy5rQ4gGHCk8z7K3Q1RWBHlx6CYJp6SeZkLIOCUb69S0NRiUE0fXzmTyGjL94pwKMzRUOO8qaCgYKASASARMSFQHsvYlsc9Y4NSAkj0851jOBC8OnBw0427\"\n",
    "\n",
    "lang = \"en\" #caption language en, fr, es, de, it\n",
    "\n",
    "caption_count = 1 #how many caption alternatives do you want max: 3\n",
    "\n",
    "url = \"https://us-central1-aiplatform.googleapis.com/v1/projects/visionforphdproject/locations/us-central1/publishers/google/models/imagetext:predict\"\n",
    "\n",
    "headers = {\n",
    "    \"Authorization\": \"Bearer \" + access_token,\n",
    "    \"Content-Type\": \"application/json; charset=utf-8\"\n",
    "}\n"
   ]
  },
  {
   "cell_type": "markdown",
   "id": "2a8a9774",
   "metadata": {},
   "source": [
    "#### Single Image"
   ]
  },
  {
   "cell_type": "markdown",
   "id": "0e1bdfdb",
   "metadata": {},
   "source": [
    "Skip this line if you are trying to caption multiple images in a directory"
   ]
  },
  {
   "cell_type": "code",
   "execution_count": 28,
   "id": "287bddd4",
   "metadata": {},
   "outputs": [
    {
     "name": "stdout",
     "output_type": "stream",
     "text": [
      "{'predictions': ['the letter h is in the shape of a house .'], 'deployedModelId': '6747203681382301696'}\n"
     ]
    }
   ],
   "source": [
    "data = f'''{{\n",
    "        \"instances\": [\n",
    "            {{\n",
    "                \"image\": {{\n",
    "                    \"bytesBase64Encoded\": \"{image_to_base64_PNG(Image.open(\"../../ImageSimilarity/data/\"+ str(i) + \".png\"))}\"\n",
    "                }}\n",
    "            }}\n",
    "        ],\n",
    "        \"parameters\": {{\n",
    "            \"sampleCount\": 1,\n",
    "            \"language\": \"en\"\n",
    "        }}\n",
    "    }}'''\n",
    "\n",
    "response = requests.post(url, headers=headers, data=data)\n",
    "\n",
    "if response.status_code == 200:\n",
    "    result = response.json()\n",
    "    print(result)\n",
    "else:\n",
    "    print(\"Request failed with status code:\", response.status_code)\n",
    "    print(response.text)\n"
   ]
  },
  {
   "cell_type": "markdown",
   "id": "96e23cb0",
   "metadata": {},
   "source": [
    "#### Batch Captioning with for loop"
   ]
  },
  {
   "cell_type": "code",
   "execution_count": 24,
   "id": "5d10bac4",
   "metadata": {},
   "outputs": [
    {
     "name": "stderr",
     "output_type": "stream",
     "text": [
      " 22%|██████████████████▍                                                               | 11/49 [00:13<00:39,  1.04s/it]"
     ]
    },
    {
     "name": "stdout",
     "output_type": "stream",
     "text": [
      "Request failed with status code: 429\n",
      "{\n",
      "  \"error\": {\n",
      "    \"code\": 429,\n",
      "    \"message\": \"Quota exceeded for aiplatform.googleapis.com/online_prediction_requests_per_base_model with base model: imagetext. Please submit a quota increase request. https://cloud.google.com/vertex-ai/docs/quotas.\",\n",
      "    \"status\": \"RESOURCE_EXHAUSTED\"\n",
      "  }\n",
      "}\n",
      "\n",
      "The process failed while captioning 12.png\n"
     ]
    },
    {
     "name": "stderr",
     "output_type": "stream",
     "text": [
      "\r",
      " 24%|████████████████████                                                              | 12/49 [00:13<00:29,  1.24it/s]"
     ]
    },
    {
     "name": "stdout",
     "output_type": "stream",
     "text": [
      "Request failed with status code: 429\n",
      "{\n",
      "  \"error\": {\n",
      "    \"code\": 429,\n",
      "    \"message\": \"Quota exceeded for aiplatform.googleapis.com/online_prediction_requests_per_base_model with base model: imagetext. Please submit a quota increase request. https://cloud.google.com/vertex-ai/docs/quotas.\",\n",
      "    \"status\": \"RESOURCE_EXHAUSTED\"\n",
      "  }\n",
      "}\n",
      "\n",
      "The process failed while captioning 13.png\n"
     ]
    },
    {
     "name": "stderr",
     "output_type": "stream",
     "text": [
      " 31%|█████████████████████████                                                         | 15/49 [00:16<00:29,  1.16it/s]"
     ]
    },
    {
     "name": "stdout",
     "output_type": "stream",
     "text": [
      "Request failed with status code: 429\n",
      "{\n",
      "  \"error\": {\n",
      "    \"code\": 429,\n",
      "    \"message\": \"Quota exceeded for aiplatform.googleapis.com/online_prediction_requests_per_base_model with base model: imagetext. Please submit a quota increase request. https://cloud.google.com/vertex-ai/docs/quotas.\",\n",
      "    \"status\": \"RESOURCE_EXHAUSTED\"\n",
      "  }\n",
      "}\n",
      "\n",
      "The process failed while captioning 16.png\n"
     ]
    },
    {
     "name": "stderr",
     "output_type": "stream",
     "text": [
      "\r",
      " 33%|██████████████████████████▊                                                       | 16/49 [00:17<00:22,  1.44it/s]"
     ]
    },
    {
     "name": "stdout",
     "output_type": "stream",
     "text": [
      "Request failed with status code: 429\n",
      "{\n",
      "  \"error\": {\n",
      "    \"code\": 429,\n",
      "    \"message\": \"Quota exceeded for aiplatform.googleapis.com/online_prediction_requests_per_base_model with base model: imagetext. Please submit a quota increase request. https://cloud.google.com/vertex-ai/docs/quotas.\",\n",
      "    \"status\": \"RESOURCE_EXHAUSTED\"\n",
      "  }\n",
      "}\n",
      "\n",
      "The process failed while captioning 17.png\n"
     ]
    },
    {
     "name": "stderr",
     "output_type": "stream",
     "text": [
      "\r",
      " 35%|████████████████████████████▍                                                     | 17/49 [00:17<00:18,  1.72it/s]"
     ]
    },
    {
     "name": "stdout",
     "output_type": "stream",
     "text": [
      "Request failed with status code: 429\n",
      "{\n",
      "  \"error\": {\n",
      "    \"code\": 429,\n",
      "    \"message\": \"Quota exceeded for aiplatform.googleapis.com/online_prediction_requests_per_base_model with base model: imagetext. Please submit a quota increase request. https://cloud.google.com/vertex-ai/docs/quotas.\",\n",
      "    \"status\": \"RESOURCE_EXHAUSTED\"\n",
      "  }\n",
      "}\n",
      "\n",
      "The process failed while captioning 18.png\n"
     ]
    },
    {
     "name": "stderr",
     "output_type": "stream",
     "text": [
      "\r",
      " 37%|██████████████████████████████                                                    | 18/49 [00:17<00:15,  1.99it/s]"
     ]
    },
    {
     "name": "stdout",
     "output_type": "stream",
     "text": [
      "Request failed with status code: 429\n",
      "{\n",
      "  \"error\": {\n",
      "    \"code\": 429,\n",
      "    \"message\": \"Quota exceeded for aiplatform.googleapis.com/online_prediction_requests_per_base_model with base model: imagetext. Please submit a quota increase request. https://cloud.google.com/vertex-ai/docs/quotas.\",\n",
      "    \"status\": \"RESOURCE_EXHAUSTED\"\n",
      "  }\n",
      "}\n",
      "\n",
      "The process failed while captioning 19.png\n"
     ]
    },
    {
     "name": "stderr",
     "output_type": "stream",
     "text": [
      " 41%|█████████████████████████████████▍                                                | 20/49 [00:19<00:16,  1.73it/s]"
     ]
    },
    {
     "name": "stdout",
     "output_type": "stream",
     "text": [
      "Request failed with status code: 429\n",
      "{\n",
      "  \"error\": {\n",
      "    \"code\": 429,\n",
      "    \"message\": \"Quota exceeded for aiplatform.googleapis.com/online_prediction_requests_per_base_model with base model: imagetext. Please submit a quota increase request. https://cloud.google.com/vertex-ai/docs/quotas.\",\n",
      "    \"status\": \"RESOURCE_EXHAUSTED\"\n",
      "  }\n",
      "}\n",
      "\n",
      "The process failed while captioning 21.png\n"
     ]
    },
    {
     "name": "stderr",
     "output_type": "stream",
     "text": [
      "\r",
      " 43%|███████████████████████████████████▏                                              | 21/49 [00:19<00:14,  1.97it/s]"
     ]
    },
    {
     "name": "stdout",
     "output_type": "stream",
     "text": [
      "Request failed with status code: 429\n",
      "{\n",
      "  \"error\": {\n",
      "    \"code\": 429,\n",
      "    \"message\": \"Quota exceeded for aiplatform.googleapis.com/online_prediction_requests_per_base_model with base model: imagetext. Please submit a quota increase request. https://cloud.google.com/vertex-ai/docs/quotas.\",\n",
      "    \"status\": \"RESOURCE_EXHAUSTED\"\n",
      "  }\n",
      "}\n",
      "\n",
      "The process failed while captioning 22.png\n"
     ]
    },
    {
     "name": "stderr",
     "output_type": "stream",
     "text": [
      "\r",
      " 45%|████████████████████████████████████▊                                             | 22/49 [00:20<00:12,  2.12it/s]"
     ]
    },
    {
     "name": "stdout",
     "output_type": "stream",
     "text": [
      "Request failed with status code: 429\n",
      "{\n",
      "  \"error\": {\n",
      "    \"code\": 429,\n",
      "    \"message\": \"Quota exceeded for aiplatform.googleapis.com/online_prediction_requests_per_base_model with base model: imagetext. Please submit a quota increase request. https://cloud.google.com/vertex-ai/docs/quotas.\",\n",
      "    \"status\": \"RESOURCE_EXHAUSTED\"\n",
      "  }\n",
      "}\n",
      "\n",
      "The process failed while captioning 23.png\n"
     ]
    },
    {
     "name": "stderr",
     "output_type": "stream",
     "text": [
      "\r",
      " 47%|██████████████████████████████████████▍                                           | 23/49 [00:20<00:11,  2.36it/s]"
     ]
    },
    {
     "name": "stdout",
     "output_type": "stream",
     "text": [
      "Request failed with status code: 429\n",
      "{\n",
      "  \"error\": {\n",
      "    \"code\": 429,\n",
      "    \"message\": \"Quota exceeded for aiplatform.googleapis.com/online_prediction_requests_per_base_model with base model: imagetext. Please submit a quota increase request. https://cloud.google.com/vertex-ai/docs/quotas.\",\n",
      "    \"status\": \"RESOURCE_EXHAUSTED\"\n",
      "  }\n",
      "}\n",
      "\n",
      "The process failed while captioning 24.png\n"
     ]
    },
    {
     "name": "stderr",
     "output_type": "stream",
     "text": [
      "\r",
      " 49%|████████████████████████████████████████▏                                         | 24/49 [00:20<00:09,  2.61it/s]"
     ]
    },
    {
     "name": "stdout",
     "output_type": "stream",
     "text": [
      "Request failed with status code: 429\n",
      "{\n",
      "  \"error\": {\n",
      "    \"code\": 429,\n",
      "    \"message\": \"Quota exceeded for aiplatform.googleapis.com/online_prediction_requests_per_base_model with base model: imagetext. Please submit a quota increase request. https://cloud.google.com/vertex-ai/docs/quotas.\",\n",
      "    \"status\": \"RESOURCE_EXHAUSTED\"\n",
      "  }\n",
      "}\n",
      "\n",
      "The process failed while captioning 25.png\n"
     ]
    },
    {
     "name": "stderr",
     "output_type": "stream",
     "text": [
      "\r",
      " 51%|█████████████████████████████████████████▊                                        | 25/49 [00:20<00:08,  2.75it/s]"
     ]
    },
    {
     "name": "stdout",
     "output_type": "stream",
     "text": [
      "Request failed with status code: 429\n",
      "{\n",
      "  \"error\": {\n",
      "    \"code\": 429,\n",
      "    \"message\": \"Quota exceeded for aiplatform.googleapis.com/online_prediction_requests_per_base_model with base model: imagetext. Please submit a quota increase request. https://cloud.google.com/vertex-ai/docs/quotas.\",\n",
      "    \"status\": \"RESOURCE_EXHAUSTED\"\n",
      "  }\n",
      "}\n",
      "\n",
      "The process failed while captioning 26.png\n"
     ]
    },
    {
     "name": "stderr",
     "output_type": "stream",
     "text": [
      "\r",
      " 53%|███████████████████████████████████████████▌                                      | 26/49 [00:21<00:07,  2.97it/s]"
     ]
    },
    {
     "name": "stdout",
     "output_type": "stream",
     "text": [
      "Request failed with status code: 429\n",
      "{\n",
      "  \"error\": {\n",
      "    \"code\": 429,\n",
      "    \"message\": \"Quota exceeded for aiplatform.googleapis.com/online_prediction_requests_per_base_model with base model: imagetext. Please submit a quota increase request. https://cloud.google.com/vertex-ai/docs/quotas.\",\n",
      "    \"status\": \"RESOURCE_EXHAUSTED\"\n",
      "  }\n",
      "}\n",
      "\n",
      "The process failed while captioning 27.png\n"
     ]
    },
    {
     "name": "stderr",
     "output_type": "stream",
     "text": [
      "\r",
      " 55%|█████████████████████████████████████████████▏                                    | 27/49 [00:21<00:07,  3.12it/s]"
     ]
    },
    {
     "name": "stdout",
     "output_type": "stream",
     "text": [
      "Request failed with status code: 429\n",
      "{\n",
      "  \"error\": {\n",
      "    \"code\": 429,\n",
      "    \"message\": \"Quota exceeded for aiplatform.googleapis.com/online_prediction_requests_per_base_model with base model: imagetext. Please submit a quota increase request. https://cloud.google.com/vertex-ai/docs/quotas.\",\n",
      "    \"status\": \"RESOURCE_EXHAUSTED\"\n",
      "  }\n",
      "}\n",
      "\n",
      "The process failed while captioning 28.png\n"
     ]
    },
    {
     "name": "stderr",
     "output_type": "stream",
     "text": [
      "\r",
      " 57%|██████████████████████████████████████████████▊                                   | 28/49 [00:21<00:06,  3.27it/s]"
     ]
    },
    {
     "name": "stdout",
     "output_type": "stream",
     "text": [
      "Request failed with status code: 429\n",
      "{\n",
      "  \"error\": {\n",
      "    \"code\": 429,\n",
      "    \"message\": \"Quota exceeded for aiplatform.googleapis.com/online_prediction_requests_per_base_model with base model: imagetext. Please submit a quota increase request. https://cloud.google.com/vertex-ai/docs/quotas.\",\n",
      "    \"status\": \"RESOURCE_EXHAUSTED\"\n",
      "  }\n",
      "}\n",
      "\n",
      "The process failed while captioning 29.png\n"
     ]
    },
    {
     "name": "stderr",
     "output_type": "stream",
     "text": [
      "\r",
      " 59%|████████████████████████████████████████████████▌                                 | 29/49 [00:22<00:06,  3.26it/s]"
     ]
    },
    {
     "name": "stdout",
     "output_type": "stream",
     "text": [
      "Request failed with status code: 429\n",
      "{\n",
      "  \"error\": {\n",
      "    \"code\": 429,\n",
      "    \"message\": \"Quota exceeded for aiplatform.googleapis.com/online_prediction_requests_per_base_model with base model: imagetext. Please submit a quota increase request. https://cloud.google.com/vertex-ai/docs/quotas.\",\n",
      "    \"status\": \"RESOURCE_EXHAUSTED\"\n",
      "  }\n",
      "}\n",
      "\n",
      "The process failed while captioning 30.png\n"
     ]
    },
    {
     "name": "stderr",
     "output_type": "stream",
     "text": [
      "\r",
      " 61%|██████████████████████████████████████████████████▏                               | 30/49 [00:22<00:05,  3.38it/s]"
     ]
    },
    {
     "name": "stdout",
     "output_type": "stream",
     "text": [
      "Request failed with status code: 429\n",
      "{\n",
      "  \"error\": {\n",
      "    \"code\": 429,\n",
      "    \"message\": \"Quota exceeded for aiplatform.googleapis.com/online_prediction_requests_per_base_model with base model: imagetext. Please submit a quota increase request. https://cloud.google.com/vertex-ai/docs/quotas.\",\n",
      "    \"status\": \"RESOURCE_EXHAUSTED\"\n",
      "  }\n",
      "}\n",
      "\n",
      "The process failed while captioning 31.png\n"
     ]
    },
    {
     "name": "stderr",
     "output_type": "stream",
     "text": [
      "\r",
      " 63%|███████████████████████████████████████████████████▉                              | 31/49 [00:22<00:05,  3.47it/s]"
     ]
    },
    {
     "name": "stdout",
     "output_type": "stream",
     "text": [
      "Request failed with status code: 429\n",
      "{\n",
      "  \"error\": {\n",
      "    \"code\": 429,\n",
      "    \"message\": \"Quota exceeded for aiplatform.googleapis.com/online_prediction_requests_per_base_model with base model: imagetext. Please submit a quota increase request. https://cloud.google.com/vertex-ai/docs/quotas.\",\n",
      "    \"status\": \"RESOURCE_EXHAUSTED\"\n",
      "  }\n",
      "}\n",
      "\n",
      "The process failed while captioning 32.png\n"
     ]
    },
    {
     "name": "stderr",
     "output_type": "stream",
     "text": [
      "\r",
      " 65%|█████████████████████████████████████████████████████▌                            | 32/49 [00:23<00:05,  3.31it/s]"
     ]
    },
    {
     "name": "stdout",
     "output_type": "stream",
     "text": [
      "Request failed with status code: 429\n",
      "{\n",
      "  \"error\": {\n",
      "    \"code\": 429,\n",
      "    \"message\": \"Quota exceeded for aiplatform.googleapis.com/online_prediction_requests_per_base_model with base model: imagetext. Please submit a quota increase request. https://cloud.google.com/vertex-ai/docs/quotas.\",\n",
      "    \"status\": \"RESOURCE_EXHAUSTED\"\n",
      "  }\n",
      "}\n",
      "\n",
      "The process failed while captioning 33.png\n"
     ]
    },
    {
     "name": "stderr",
     "output_type": "stream",
     "text": [
      "\r",
      " 67%|███████████████████████████████████████████████████████▏                          | 33/49 [00:23<00:04,  3.30it/s]"
     ]
    },
    {
     "name": "stdout",
     "output_type": "stream",
     "text": [
      "Request failed with status code: 429\n",
      "{\n",
      "  \"error\": {\n",
      "    \"code\": 429,\n",
      "    \"message\": \"Quota exceeded for aiplatform.googleapis.com/online_prediction_requests_per_base_model with base model: imagetext. Please submit a quota increase request. https://cloud.google.com/vertex-ai/docs/quotas.\",\n",
      "    \"status\": \"RESOURCE_EXHAUSTED\"\n",
      "  }\n",
      "}\n",
      "\n",
      "The process failed while captioning 34.png\n"
     ]
    },
    {
     "name": "stderr",
     "output_type": "stream",
     "text": [
      "\r",
      " 69%|████████████████████████████████████████████████████████▉                         | 34/49 [00:23<00:04,  3.34it/s]"
     ]
    },
    {
     "name": "stdout",
     "output_type": "stream",
     "text": [
      "Request failed with status code: 429\n",
      "{\n",
      "  \"error\": {\n",
      "    \"code\": 429,\n",
      "    \"message\": \"Quota exceeded for aiplatform.googleapis.com/online_prediction_requests_per_base_model with base model: imagetext. Please submit a quota increase request. https://cloud.google.com/vertex-ai/docs/quotas.\",\n",
      "    \"status\": \"RESOURCE_EXHAUSTED\"\n",
      "  }\n",
      "}\n",
      "\n",
      "The process failed while captioning 35.png\n"
     ]
    },
    {
     "name": "stderr",
     "output_type": "stream",
     "text": [
      "\r",
      " 71%|██████████████████████████████████████████████████████████▌                       | 35/49 [00:23<00:04,  3.43it/s]"
     ]
    },
    {
     "name": "stdout",
     "output_type": "stream",
     "text": [
      "Request failed with status code: 429\n",
      "{\n",
      "  \"error\": {\n",
      "    \"code\": 429,\n",
      "    \"message\": \"Quota exceeded for aiplatform.googleapis.com/online_prediction_requests_per_base_model with base model: imagetext. Please submit a quota increase request. https://cloud.google.com/vertex-ai/docs/quotas.\",\n",
      "    \"status\": \"RESOURCE_EXHAUSTED\"\n",
      "  }\n",
      "}\n",
      "\n",
      "The process failed while captioning 36.png\n"
     ]
    },
    {
     "name": "stderr",
     "output_type": "stream",
     "text": [
      "\r",
      " 73%|████████████████████████████████████████████████████████████▏                     | 36/49 [00:24<00:03,  3.49it/s]"
     ]
    },
    {
     "name": "stdout",
     "output_type": "stream",
     "text": [
      "Request failed with status code: 429\n",
      "{\n",
      "  \"error\": {\n",
      "    \"code\": 429,\n",
      "    \"message\": \"Quota exceeded for aiplatform.googleapis.com/online_prediction_requests_per_base_model with base model: imagetext. Please submit a quota increase request. https://cloud.google.com/vertex-ai/docs/quotas.\",\n",
      "    \"status\": \"RESOURCE_EXHAUSTED\"\n",
      "  }\n",
      "}\n",
      "\n",
      "The process failed while captioning 37.png\n"
     ]
    },
    {
     "name": "stderr",
     "output_type": "stream",
     "text": [
      "\r",
      " 76%|█████████████████████████████████████████████████████████████▉                    | 37/49 [00:24<00:03,  3.52it/s]"
     ]
    },
    {
     "name": "stdout",
     "output_type": "stream",
     "text": [
      "Request failed with status code: 429\n",
      "{\n",
      "  \"error\": {\n",
      "    \"code\": 429,\n",
      "    \"message\": \"Quota exceeded for aiplatform.googleapis.com/online_prediction_requests_per_base_model with base model: imagetext. Please submit a quota increase request. https://cloud.google.com/vertex-ai/docs/quotas.\",\n",
      "    \"status\": \"RESOURCE_EXHAUSTED\"\n",
      "  }\n",
      "}\n",
      "\n",
      "The process failed while captioning 38.png\n"
     ]
    },
    {
     "name": "stderr",
     "output_type": "stream",
     "text": [
      "\r",
      " 78%|███████████████████████████████████████████████████████████████▌                  | 38/49 [00:24<00:03,  3.47it/s]"
     ]
    },
    {
     "name": "stdout",
     "output_type": "stream",
     "text": [
      "Request failed with status code: 429\n",
      "{\n",
      "  \"error\": {\n",
      "    \"code\": 429,\n",
      "    \"message\": \"Quota exceeded for aiplatform.googleapis.com/online_prediction_requests_per_base_model with base model: imagetext. Please submit a quota increase request. https://cloud.google.com/vertex-ai/docs/quotas.\",\n",
      "    \"status\": \"RESOURCE_EXHAUSTED\"\n",
      "  }\n",
      "}\n",
      "\n",
      "The process failed while captioning 39.png\n"
     ]
    },
    {
     "name": "stderr",
     "output_type": "stream",
     "text": [
      "\r",
      " 80%|█████████████████████████████████████████████████████████████████▎                | 39/49 [00:25<00:02,  3.37it/s]"
     ]
    },
    {
     "name": "stdout",
     "output_type": "stream",
     "text": [
      "Request failed with status code: 429\n",
      "{\n",
      "  \"error\": {\n",
      "    \"code\": 429,\n",
      "    \"message\": \"Quota exceeded for aiplatform.googleapis.com/online_prediction_requests_per_base_model with base model: imagetext. Please submit a quota increase request. https://cloud.google.com/vertex-ai/docs/quotas.\",\n",
      "    \"status\": \"RESOURCE_EXHAUSTED\"\n",
      "  }\n",
      "}\n",
      "\n",
      "The process failed while captioning 40.png\n"
     ]
    },
    {
     "name": "stderr",
     "output_type": "stream",
     "text": [
      "\r",
      " 82%|██████████████████████████████████████████████████████████████████▉               | 40/49 [00:25<00:02,  3.33it/s]"
     ]
    },
    {
     "name": "stdout",
     "output_type": "stream",
     "text": [
      "Request failed with status code: 429\n",
      "{\n",
      "  \"error\": {\n",
      "    \"code\": 429,\n",
      "    \"message\": \"Quota exceeded for aiplatform.googleapis.com/online_prediction_requests_per_base_model with base model: imagetext. Please submit a quota increase request. https://cloud.google.com/vertex-ai/docs/quotas.\",\n",
      "    \"status\": \"RESOURCE_EXHAUSTED\"\n",
      "  }\n",
      "}\n",
      "\n",
      "The process failed while captioning 41.png\n"
     ]
    },
    {
     "name": "stderr",
     "output_type": "stream",
     "text": [
      "\r",
      " 84%|████████████████████████████████████████████████████████████████████▌             | 41/49 [00:25<00:02,  3.41it/s]"
     ]
    },
    {
     "name": "stdout",
     "output_type": "stream",
     "text": [
      "Request failed with status code: 429\n",
      "{\n",
      "  \"error\": {\n",
      "    \"code\": 429,\n",
      "    \"message\": \"Quota exceeded for aiplatform.googleapis.com/online_prediction_requests_per_base_model with base model: imagetext. Please submit a quota increase request. https://cloud.google.com/vertex-ai/docs/quotas.\",\n",
      "    \"status\": \"RESOURCE_EXHAUSTED\"\n",
      "  }\n",
      "}\n",
      "\n",
      "The process failed while captioning 42.png\n"
     ]
    },
    {
     "name": "stderr",
     "output_type": "stream",
     "text": [
      "\r",
      " 86%|██████████████████████████████████████████████████████████████████████▎           | 42/49 [00:25<00:01,  3.53it/s]"
     ]
    },
    {
     "name": "stdout",
     "output_type": "stream",
     "text": [
      "Request failed with status code: 429\n",
      "{\n",
      "  \"error\": {\n",
      "    \"code\": 429,\n",
      "    \"message\": \"Quota exceeded for aiplatform.googleapis.com/online_prediction_requests_per_base_model with base model: imagetext. Please submit a quota increase request. https://cloud.google.com/vertex-ai/docs/quotas.\",\n",
      "    \"status\": \"RESOURCE_EXHAUSTED\"\n",
      "  }\n",
      "}\n",
      "\n",
      "The process failed while captioning 43.png\n"
     ]
    },
    {
     "name": "stderr",
     "output_type": "stream",
     "text": [
      "\r",
      " 88%|███████████████████████████████████████████████████████████████████████▉          | 43/49 [00:26<00:01,  3.49it/s]"
     ]
    },
    {
     "name": "stdout",
     "output_type": "stream",
     "text": [
      "Request failed with status code: 429\n",
      "{\n",
      "  \"error\": {\n",
      "    \"code\": 429,\n",
      "    \"message\": \"Quota exceeded for aiplatform.googleapis.com/online_prediction_requests_per_base_model with base model: imagetext. Please submit a quota increase request. https://cloud.google.com/vertex-ai/docs/quotas.\",\n",
      "    \"status\": \"RESOURCE_EXHAUSTED\"\n",
      "  }\n",
      "}\n",
      "\n",
      "The process failed while captioning 44.png\n"
     ]
    },
    {
     "name": "stderr",
     "output_type": "stream",
     "text": [
      "\r",
      " 90%|█████████████████████████████████████████████████████████████████████████▋        | 44/49 [00:26<00:01,  3.52it/s]"
     ]
    },
    {
     "name": "stdout",
     "output_type": "stream",
     "text": [
      "Request failed with status code: 429\n",
      "{\n",
      "  \"error\": {\n",
      "    \"code\": 429,\n",
      "    \"message\": \"Quota exceeded for aiplatform.googleapis.com/online_prediction_requests_per_base_model with base model: imagetext. Please submit a quota increase request. https://cloud.google.com/vertex-ai/docs/quotas.\",\n",
      "    \"status\": \"RESOURCE_EXHAUSTED\"\n",
      "  }\n",
      "}\n",
      "\n",
      "The process failed while captioning 45.png\n"
     ]
    },
    {
     "name": "stderr",
     "output_type": "stream",
     "text": [
      "\r",
      " 92%|███████████████████████████████████████████████████████████████████████████▎      | 45/49 [00:26<00:01,  3.53it/s]"
     ]
    },
    {
     "name": "stdout",
     "output_type": "stream",
     "text": [
      "Request failed with status code: 429\n",
      "{\n",
      "  \"error\": {\n",
      "    \"code\": 429,\n",
      "    \"message\": \"Quota exceeded for aiplatform.googleapis.com/online_prediction_requests_per_base_model with base model: imagetext. Please submit a quota increase request. https://cloud.google.com/vertex-ai/docs/quotas.\",\n",
      "    \"status\": \"RESOURCE_EXHAUSTED\"\n",
      "  }\n",
      "}\n",
      "\n",
      "The process failed while captioning 46.png\n"
     ]
    },
    {
     "name": "stderr",
     "output_type": "stream",
     "text": [
      "\r",
      " 94%|████████████████████████████████████████████████████████████████████████████▉     | 46/49 [00:27<00:00,  3.48it/s]"
     ]
    },
    {
     "name": "stdout",
     "output_type": "stream",
     "text": [
      "Request failed with status code: 429\n",
      "{\n",
      "  \"error\": {\n",
      "    \"code\": 429,\n",
      "    \"message\": \"Quota exceeded for aiplatform.googleapis.com/online_prediction_requests_per_base_model with base model: imagetext. Please submit a quota increase request. https://cloud.google.com/vertex-ai/docs/quotas.\",\n",
      "    \"status\": \"RESOURCE_EXHAUSTED\"\n",
      "  }\n",
      "}\n",
      "\n",
      "The process failed while captioning 47.png\n"
     ]
    },
    {
     "name": "stderr",
     "output_type": "stream",
     "text": [
      "\r",
      " 96%|██████████████████████████████████████████████████████████████████████████████▋   | 47/49 [00:27<00:00,  3.52it/s]"
     ]
    },
    {
     "name": "stdout",
     "output_type": "stream",
     "text": [
      "Request failed with status code: 429\n",
      "{\n",
      "  \"error\": {\n",
      "    \"code\": 429,\n",
      "    \"message\": \"Quota exceeded for aiplatform.googleapis.com/online_prediction_requests_per_base_model with base model: imagetext. Please submit a quota increase request. https://cloud.google.com/vertex-ai/docs/quotas.\",\n",
      "    \"status\": \"RESOURCE_EXHAUSTED\"\n",
      "  }\n",
      "}\n",
      "\n",
      "The process failed while captioning 48.png\n"
     ]
    },
    {
     "name": "stderr",
     "output_type": "stream",
     "text": [
      "\r",
      " 98%|████████████████████████████████████████████████████████████████████████████████▎ | 48/49 [00:27<00:00,  3.52it/s]"
     ]
    },
    {
     "name": "stdout",
     "output_type": "stream",
     "text": [
      "Request failed with status code: 429\n",
      "{\n",
      "  \"error\": {\n",
      "    \"code\": 429,\n",
      "    \"message\": \"Quota exceeded for aiplatform.googleapis.com/online_prediction_requests_per_base_model with base model: imagetext. Please submit a quota increase request. https://cloud.google.com/vertex-ai/docs/quotas.\",\n",
      "    \"status\": \"RESOURCE_EXHAUSTED\"\n",
      "  }\n",
      "}\n",
      "\n",
      "The process failed while captioning 49.png\n"
     ]
    },
    {
     "name": "stderr",
     "output_type": "stream",
     "text": [
      "100%|██████████████████████████████████████████████████████████████████████████████████| 49/49 [00:27<00:00,  1.76it/s]"
     ]
    },
    {
     "name": "stdout",
     "output_type": "stream",
     "text": [
      "Request failed with status code: 429\n",
      "{\n",
      "  \"error\": {\n",
      "    \"code\": 429,\n",
      "    \"message\": \"Quota exceeded for aiplatform.googleapis.com/online_prediction_requests_per_base_model with base model: imagetext. Please submit a quota increase request. https://cloud.google.com/vertex-ai/docs/quotas.\",\n",
      "    \"status\": \"RESOURCE_EXHAUSTED\"\n",
      "  }\n",
      "}\n",
      "\n",
      "The process failed while captioning 50.png\n"
     ]
    },
    {
     "name": "stderr",
     "output_type": "stream",
     "text": [
      "\n"
     ]
    }
   ],
   "source": [
    "for i in tqdm(range(1, 50)):\n",
    "    \n",
    "    i += 1\n",
    "    \n",
    "    encode_img = image_to_base64_PNG(Image.open(\"../../ImageSimilarity/data/\"+ str(i) + \".png\"))\n",
    "    \n",
    "\n",
    "    data = f'''{{\n",
    "        \"instances\": [\n",
    "            {{\n",
    "                \"image\": {{\n",
    "                    \"bytesBase64Encoded\": \"{encode_img}\"\n",
    "                }}\n",
    "            }}\n",
    "        ],\n",
    "        \"parameters\": {{\n",
    "            \"sampleCount\": 1,\n",
    "            \"language\": \"en\"\n",
    "        }}\n",
    "    }}'''\n",
    "\n",
    "    response = requests.post(url, headers=headers, data=data)\n",
    "\n",
    "    if response.status_code == 200:\n",
    "        result = response.json()\n",
    "        # Append captions to the DataFrame\n",
    "        captiondb.loc[i] = [str(i) + \".png\", encode_img,  result['predictions'][0]]\n",
    "    else:\n",
    "        print(\"Request failed with status code:\", response.status_code)\n",
    "        print(response.text)\n",
    "        print(f\"The process failed while captioning {i}.png\")\n"
   ]
  },
  {
   "cell_type": "markdown",
   "id": "7d58aa01",
   "metadata": {},
   "source": [
    "### Check the DB and Export"
   ]
  },
  {
   "cell_type": "code",
   "execution_count": 25,
   "id": "8be460d5",
   "metadata": {
    "scrolled": true
   },
   "outputs": [
    {
     "data": {
      "text/html": [
       "<div>\n",
       "<style scoped>\n",
       "    .dataframe tbody tr th:only-of-type {\n",
       "        vertical-align: middle;\n",
       "    }\n",
       "\n",
       "    .dataframe tbody tr th {\n",
       "        vertical-align: top;\n",
       "    }\n",
       "\n",
       "    .dataframe thead th {\n",
       "        text-align: right;\n",
       "    }\n",
       "</style>\n",
       "<table border=\"1\" class=\"dataframe\">\n",
       "  <thead>\n",
       "    <tr style=\"text-align: right;\">\n",
       "      <th></th>\n",
       "      <th>Image ID</th>\n",
       "      <th>Image</th>\n",
       "      <th>Description</th>\n",
       "    </tr>\n",
       "  </thead>\n",
       "  <tbody>\n",
       "    <tr>\n",
       "      <th>1</th>\n",
       "      <td>1.png</td>\n",
       "      <td>iVBORw0KGgoAAAANSUhEUgAAAQAAAAEACAIAAADTED8xAA...</td>\n",
       "      <td>a cross with the number 2 and 1 on it</td>\n",
       "    </tr>\n",
       "    <tr>\n",
       "      <th>2</th>\n",
       "      <td>2.png</td>\n",
       "      <td>iVBORw0KGgoAAAANSUhEUgAAAQAAAAEACAIAAADTED8xAA...</td>\n",
       "      <td>a black and white icon of a house with a squar...</td>\n",
       "    </tr>\n",
       "    <tr>\n",
       "      <th>3</th>\n",
       "      <td>3.png</td>\n",
       "      <td>iVBORw0KGgoAAAANSUhEUgAAAQAAAAEACAIAAADTED8xAA...</td>\n",
       "      <td>the letter s is in a circle on a white backgro...</td>\n",
       "    </tr>\n",
       "    <tr>\n",
       "      <th>4</th>\n",
       "      <td>4.png</td>\n",
       "      <td>iVBORw0KGgoAAAANSUhEUgAAAQAAAAEACAIAAADTED8xAA...</td>\n",
       "      <td>the 3m logo is black and white on a white back...</td>\n",
       "    </tr>\n",
       "    <tr>\n",
       "      <th>5</th>\n",
       "      <td>5.png</td>\n",
       "      <td>iVBORw0KGgoAAAANSUhEUgAAAQAAAAEACAIAAADTED8xAA...</td>\n",
       "      <td>a black and white logo with a cross and the nu...</td>\n",
       "    </tr>\n",
       "  </tbody>\n",
       "</table>\n",
       "</div>"
      ],
      "text/plain": [
       "  Image ID                                              Image  \\\n",
       "1    1.png  iVBORw0KGgoAAAANSUhEUgAAAQAAAAEACAIAAADTED8xAA...   \n",
       "2    2.png  iVBORw0KGgoAAAANSUhEUgAAAQAAAAEACAIAAADTED8xAA...   \n",
       "3    3.png  iVBORw0KGgoAAAANSUhEUgAAAQAAAAEACAIAAADTED8xAA...   \n",
       "4    4.png  iVBORw0KGgoAAAANSUhEUgAAAQAAAAEACAIAAADTED8xAA...   \n",
       "5    5.png  iVBORw0KGgoAAAANSUhEUgAAAQAAAAEACAIAAADTED8xAA...   \n",
       "\n",
       "                                         Description  \n",
       "1              a cross with the number 2 and 1 on it  \n",
       "2  a black and white icon of a house with a squar...  \n",
       "3  the letter s is in a circle on a white backgro...  \n",
       "4  the 3m logo is black and white on a white back...  \n",
       "5  a black and white logo with a cross and the nu...  "
      ]
     },
     "execution_count": 25,
     "metadata": {},
     "output_type": "execute_result"
    }
   ],
   "source": [
    "captiondb.head()"
   ]
  },
  {
   "cell_type": "code",
   "execution_count": 28,
   "id": "45cb38f0",
   "metadata": {
    "scrolled": true
   },
   "outputs": [
    {
     "name": "stdout",
     "output_type": "stream",
     "text": [
      "<class 'pandas.core.frame.DataFrame'>\n",
      "Index: 14 entries, 1 to 20\n",
      "Data columns (total 3 columns):\n",
      " #   Column       Non-Null Count  Dtype \n",
      "---  ------       --------------  ----- \n",
      " 0   Image ID     14 non-null     object\n",
      " 1   Image        14 non-null     object\n",
      " 2   Description  14 non-null     object\n",
      "dtypes: object(3)\n",
      "memory usage: 448.0+ bytes\n",
      "None\n"
     ]
    }
   ],
   "source": [
    "print(captiondb.info())"
   ]
  },
  {
   "cell_type": "markdown",
   "id": "fa9d65aa",
   "metadata": {},
   "source": [
    "#### Export DB to a csv file"
   ]
  },
  {
   "cell_type": "code",
   "execution_count": 30,
   "id": "981075d4",
   "metadata": {},
   "outputs": [],
   "source": [
    "captiondb.to_csv(\"captiondb.cvs\", index=False)"
   ]
  },
  {
   "cell_type": "markdown",
   "id": "55495013",
   "metadata": {},
   "source": [
    "### Closing Marks"
   ]
  },
  {
   "cell_type": "markdown",
   "id": "0f57c75f",
   "metadata": {},
   "source": [
    "Google Cloud does not allow you to run the request forever. It comes to a halt after ~10-20 iteration. You need to get in touch with them and ask to increase the quota. I have not done it yet so I cannot provide the information about that yet."
   ]
  }
 ],
 "metadata": {
  "kernelspec": {
   "display_name": "opencv-env",
   "language": "python",
   "name": "opencv-env"
  },
  "language_info": {
   "codemirror_mode": {
    "name": "ipython",
    "version": 3
   },
   "file_extension": ".py",
   "mimetype": "text/x-python",
   "name": "python",
   "nbconvert_exporter": "python",
   "pygments_lexer": "ipython3",
   "version": "3.10.3"
  }
 },
 "nbformat": 4,
 "nbformat_minor": 5
}
